{
 "cells": [
  {
   "cell_type": "code",
   "execution_count": 1,
   "id": "c59e80d9",
   "metadata": {},
   "outputs": [],
   "source": [
    "import pandas as pd\n",
    "import numpy as np\n",
    "import sys\n",
    "import os\n",
    "\n",
    "sys.path.append(os.path.abspath(\"..\"))  # Adds project root to Python path\n",
    "sys.path.append(os.path.abspath(\".\"))  # Adds current directory to Python path\n"
   ]
  },
  {
   "cell_type": "code",
   "execution_count": 2,
   "id": "5090c6e2",
   "metadata": {},
   "outputs": [
    {
     "name": "stderr",
     "output_type": "stream",
     "text": [
      "C:\\Users\\rajgh\\AppData\\Local\\Temp\\ipykernel_11228\\1130730965.py:1: DtypeWarning: Columns (0) have mixed types. Specify dtype option on import or set low_memory=False.\n",
      "  df = pd.read_csv('data/data.csv', encoding='ISO-8859-1')\n"
     ]
    },
    {
     "name": "stdout",
     "output_type": "stream",
     "text": [
      "<class 'pandas.core.frame.DataFrame'>\n",
      "RangeIndex: 435742 entries, 0 to 435741\n",
      "Data columns (total 13 columns):\n",
      " #   Column                       Non-Null Count   Dtype  \n",
      "---  ------                       --------------   -----  \n",
      " 0   stn_code                     291665 non-null  object \n",
      " 1   sampling_date                435739 non-null  object \n",
      " 2   state                        435742 non-null  object \n",
      " 3   location                     435739 non-null  object \n",
      " 4   agency                       286261 non-null  object \n",
      " 5   type                         430349 non-null  object \n",
      " 6   so2                          401096 non-null  float64\n",
      " 7   no2                          419509 non-null  float64\n",
      " 8   rspm                         395520 non-null  float64\n",
      " 9   spm                          198355 non-null  float64\n",
      " 10  location_monitoring_station  408251 non-null  object \n",
      " 11  pm2_5                        9314 non-null    float64\n",
      " 12  date                         435735 non-null  object \n",
      "dtypes: float64(5), object(8)\n",
      "memory usage: 43.2+ MB\n"
     ]
    },
    {
     "data": {
      "text/plain": [
       "stn_code                       144077\n",
       "sampling_date                       3\n",
       "state                               0\n",
       "location                            3\n",
       "agency                         149481\n",
       "type                             5393\n",
       "so2                             34646\n",
       "no2                             16233\n",
       "rspm                            40222\n",
       "spm                            237387\n",
       "location_monitoring_station     27491\n",
       "pm2_5                          426428\n",
       "date                                7\n",
       "dtype: int64"
      ]
     },
     "execution_count": 2,
     "metadata": {},
     "output_type": "execute_result"
    }
   ],
   "source": [
    "df = pd.read_csv('data/data.csv', encoding='ISO-8859-1')\n",
    "df.info()\n",
    "df.describe()\n",
    "df.isnull().sum()\n"
   ]
  }
 ],
 "metadata": {
  "kernelspec": {
   "display_name": "venv",
   "language": "python",
   "name": "python3"
  },
  "language_info": {
   "codemirror_mode": {
    "name": "ipython",
    "version": 3
   },
   "file_extension": ".py",
   "mimetype": "text/x-python",
   "name": "python",
   "nbconvert_exporter": "python",
   "pygments_lexer": "ipython3",
   "version": "3.13.7"
  }
 },
 "nbformat": 4,
 "nbformat_minor": 5
}
