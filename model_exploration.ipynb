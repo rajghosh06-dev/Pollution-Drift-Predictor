{
 "cells": [
  {
   "cell_type": "code",
   "execution_count": 23,
   "id": "77d97a47",
   "metadata": {},
   "outputs": [],
   "source": [
    "import pandas as pd\n",
    "import numpy as np\n",
    "import matplotlib.pyplot as plt\n",
    "import seaborn as sns\n",
    "import sys\n",
    "import os\n",
    "sys.path.append(os.path.abspath(\".\"))  # Adds current directory to Python path\n",
    "\n"
   ]
  },
  {
   "cell_type": "code",
   "execution_count": 24,
   "id": "addf6af3",
   "metadata": {},
   "outputs": [
    {
     "data": {
      "text/html": [
       "<div>\n",
       "<style scoped>\n",
       "    .dataframe tbody tr th:only-of-type {\n",
       "        vertical-align: middle;\n",
       "    }\n",
       "\n",
       "    .dataframe tbody tr th {\n",
       "        vertical-align: top;\n",
       "    }\n",
       "\n",
       "    .dataframe thead th {\n",
       "        text-align: right;\n",
       "    }\n",
       "</style>\n",
       "<table border=\"1\" class=\"dataframe\">\n",
       "  <thead>\n",
       "    <tr style=\"text-align: right;\">\n",
       "      <th></th>\n",
       "      <th>site_name</th>\n",
       "      <th>wind_speed</th>\n",
       "      <th>wind_direction</th>\n",
       "      <th>particulate_level</th>\n",
       "      <th>humidity</th>\n",
       "      <th>timestamp</th>\n",
       "    </tr>\n",
       "  </thead>\n",
       "  <tbody>\n",
       "    <tr>\n",
       "      <th>0</th>\n",
       "      <td>Site A</td>\n",
       "      <td>12.5</td>\n",
       "      <td>NW</td>\n",
       "      <td>85.2</td>\n",
       "      <td>60</td>\n",
       "      <td>2025-08-28 18:00</td>\n",
       "    </tr>\n",
       "    <tr>\n",
       "      <th>1</th>\n",
       "      <td>Site B</td>\n",
       "      <td>8.3</td>\n",
       "      <td>SE</td>\n",
       "      <td>70.1</td>\n",
       "      <td>55</td>\n",
       "      <td>2025-08-28 19:00</td>\n",
       "    </tr>\n",
       "  </tbody>\n",
       "</table>\n",
       "</div>"
      ],
      "text/plain": [
       "  site_name  wind_speed wind_direction  particulate_level  humidity  \\\n",
       "0    Site A        12.5             NW               85.2        60   \n",
       "1    Site B         8.3             SE               70.1        55   \n",
       "\n",
       "          timestamp  \n",
       "0  2025-08-28 18:00  \n",
       "1  2025-08-28 19:00  "
      ]
     },
     "execution_count": 24,
     "metadata": {},
     "output_type": "execute_result"
    }
   ],
   "source": [
    "df = pd.read_csv('data/sample_inputs.csv')\n",
    "df.head()\n"
   ]
  },
  {
   "cell_type": "code",
   "execution_count": 25,
   "id": "bd4f2791",
   "metadata": {},
   "outputs": [],
   "source": [
    "#from src/drift_model.py\n",
    "\n",
    "from src.drift_model import train_model, make_predictions\n",
    "from sklearn.model_selection import train_test_split\n",
    "\n",
    "# Select features and target\n",
    "X = df[['wind_speed', 'humidity']]  # Add 'wind_angle' if you've created it\n",
    "y = df['particulate_level']\n",
    "\n",
    "# Split the data\n",
    "X_train, X_test, y_train, y_test = train_test_split(X, y, test_size=0.2, random_state=42)\n",
    "\n",
    "\n",
    "model = train_model(X_train, y_train)\n",
    "predictions = make_predictions(model, X_test)\n"
   ]
  },
  {
   "cell_type": "code",
   "execution_count": 26,
   "id": "0656b444",
   "metadata": {},
   "outputs": [
    {
     "data": {
      "text/html": [
       "<div>\n",
       "<style scoped>\n",
       "    .dataframe tbody tr th:only-of-type {\n",
       "        vertical-align: middle;\n",
       "    }\n",
       "\n",
       "    .dataframe tbody tr th {\n",
       "        vertical-align: top;\n",
       "    }\n",
       "\n",
       "    .dataframe thead th {\n",
       "        text-align: right;\n",
       "    }\n",
       "</style>\n",
       "<table border=\"1\" class=\"dataframe\">\n",
       "  <thead>\n",
       "    <tr style=\"text-align: right;\">\n",
       "      <th></th>\n",
       "      <th>site_name</th>\n",
       "      <th>wind_speed</th>\n",
       "      <th>wind_direction</th>\n",
       "      <th>particulate_level</th>\n",
       "      <th>humidity</th>\n",
       "      <th>timestamp</th>\n",
       "      <th>wind_angle</th>\n",
       "    </tr>\n",
       "  </thead>\n",
       "  <tbody>\n",
       "    <tr>\n",
       "      <th>0</th>\n",
       "      <td>Site A</td>\n",
       "      <td>12.5</td>\n",
       "      <td>NW</td>\n",
       "      <td>85.2</td>\n",
       "      <td>60</td>\n",
       "      <td>2025-08-28 18:00</td>\n",
       "      <td>315</td>\n",
       "    </tr>\n",
       "    <tr>\n",
       "      <th>1</th>\n",
       "      <td>Site B</td>\n",
       "      <td>8.3</td>\n",
       "      <td>SE</td>\n",
       "      <td>70.1</td>\n",
       "      <td>55</td>\n",
       "      <td>2025-08-28 19:00</td>\n",
       "      <td>135</td>\n",
       "    </tr>\n",
       "  </tbody>\n",
       "</table>\n",
       "</div>"
      ],
      "text/plain": [
       "  site_name  wind_speed wind_direction  particulate_level  humidity  \\\n",
       "0    Site A        12.5             NW               85.2        60   \n",
       "1    Site B         8.3             SE               70.1        55   \n",
       "\n",
       "          timestamp  wind_angle  \n",
       "0  2025-08-28 18:00         315  \n",
       "1  2025-08-28 19:00         135  "
      ]
     },
     "execution_count": 26,
     "metadata": {},
     "output_type": "execute_result"
    }
   ],
   "source": [
    "from src.data_ingestion import load_data, preprocess_data\n",
    "\n",
    "df = load_data('data/sample_inputs.csv')\n",
    "df = preprocess_data(df)\n",
    "df.head()\n"
   ]
  },
  {
   "cell_type": "code",
   "execution_count": 27,
   "id": "e1c1edb7",
   "metadata": {},
   "outputs": [
    {
     "data": {
      "image/png": "[encoded data removed]",
      "text/plain": [
       "<Figure size 800x500 with 1 Axes>"
      ]
     },
     "metadata": {},
     "output_type": "display_data"
    }
   ],
   "source": [
    "from src.Visualizer import plot_drift\n",
    "\n",
    "plot_drift(df)\n"
   ]
  }
 ],
 "metadata": {
  "kernelspec": {
   "display_name": "venv",
   "language": "python",
   "name": "python3"
  },
  "language_info": {
   "codemirror_mode": {
    "name": "ipython",
    "version": 3
   },
   "file_extension": ".py",
   "mimetype": "text/x-python",
   "name": "python",
   "nbconvert_exporter": "python",
   "pygments_lexer": "ipython3",
   "version": "3.13.7"
  }
 },
 "nbformat": 4,
 "nbformat_minor": 5
}
