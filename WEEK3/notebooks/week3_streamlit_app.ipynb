{
 "cells": [
  {
   "cell_type": "code",
   "execution_count": null,
   "id": "09e30699",
   "metadata": {},
   "outputs": [],
   "source": [
    "##NOTE:\n",
    "#to run this file use the command: streamlit run WEEK3/apps/app_streamlit.py\n",
    "#this is just an notebook version of the streamlit app\n",
    "#OR navigte to WEEK3/apps/-> and run: \"streamlit run app_streamlit.py\""
   ]
  },
  {
   "cell_type": "code",
   "execution_count": null,
   "id": "d92dcd84",
   "metadata": {},
   "outputs": [],
   "source": [
    "import streamlit as st\n",
    "import joblib\n",
    "import pandas as pd\n",
    "import matplotlib.pyplot as plt\n"
   ]
  },
  {
   "cell_type": "code",
   "execution_count": 3,
   "id": "e8adca3f",
   "metadata": {},
   "outputs": [],
   "source": [
    "model = joblib.load(\"../../WEEK2/linear_regression_model.pkl\")\n"
   ]
  },
  {
   "cell_type": "code",
   "execution_count": null,
   "id": "16bb0df7",
   "metadata": {},
   "outputs": [],
   "source": [
    "st.title(\"🌫️ Pollution Drift Predictor\")\n",
    "st.markdown(\"Predict **SPM (Suspended Particulate Matter)** based on SO₂ and NO₂ levels.\")\n"
   ]
  },
  {
   "cell_type": "code",
   "execution_count": null,
   "id": "6fc3626a",
   "metadata": {},
   "outputs": [],
   "source": [
    "st.sidebar.header(\"Input Parameters\")\n",
    "so2_options = [round(x, 1) for x in range(0, 21)]\n",
    "no2_options = [round(x, 1) for x in range(0, 101, 5)]\n",
    "so2 = st.sidebar.selectbox(\"SO₂ concentration (µg/m³)\", so2_options)\n",
    "no2 = st.sidebar.selectbox(\"NO₂ concentration (µg/m³)\", no2_options)\n"
   ]
  },
  {
   "cell_type": "code",
   "execution_count": null,
   "id": "285ea4ec",
   "metadata": {},
   "outputs": [],
   "source": [
    "if st.button(\"🔍 Predict SPM\"):\n",
    "    prediction = model.predict([[so2, no2]])[0]\n",
    "    st.success(f\"Predicted SPM Level: **{prediction:.2f} µg/m³**\")\n",
    "\n",
    "    if prediction < 50:\n",
    "        risk = \"🟢 Safe\"\n",
    "    elif prediction < 100:\n",
    "        risk = \"🟡 Moderate\"\n",
    "    elif prediction < 200:\n",
    "        risk = \"🟠 Unhealthy\"\n",
    "    else:\n",
    "        risk = \"🔴 Hazardous\"\n",
    "    st.markdown(f\"### 🛑 Pollution Risk Level: **{risk}**\")\n",
    "\n",
    "    df_chart = pd.DataFrame({\n",
    "        \"Pollutant\": [\"SO₂\", \"NO₂\", \"Predicted SPM\"],\n",
    "        \"Value\": [so2, no2, prediction]\n",
    "    })\n",
    "    fig, ax = plt.subplots()\n",
    "    ax.bar(df_chart[\"Pollutant\"], df_chart[\"Value\"], color=[\"skyblue\", \"orange\", \"green\"])\n",
    "    ax.set_ylabel(\"Concentration (µg/m³)\")\n",
    "    ax.set_title(\"Pollutant Levels vs Predicted SPM\")\n",
    "    st.pyplot(fig)\n",
    "\n",
    "    csv = pd.DataFrame({\n",
    "        \"SO₂\": [so2],\n",
    "        \"NO₂\": [no2],\n",
    "        \"Predicted SPM\": [prediction],\n",
    "        \"Risk Level\": [risk]\n",
    "    }).to_csv(index=False)\n",
    "    st.download_button(\"📥 Download Prediction\", csv, \"prediction.csv\", \"text/csv\")\n"
   ]
  },
  {
   "cell_type": "code",
   "execution_count": null,
   "id": "2e40aeba",
   "metadata": {},
   "outputs": [],
   "source": [
    "with st.expander(\"ℹ️ Model Details\"):\n",
    "    st.write(\"This model uses Linear Regression trained on historical pollution data from Hyderabad.\")\n",
    "    st.write(\"Features: SO₂ and NO₂\")\n",
    "    st.write(\"Target: SPM (Suspended Particulate Matter)\")\n",
    "\n",
    "st.markdown(\"---\")\n",
    "st.caption(\"Built by Rishit Ghosh | Internship Project | SkillFuture AIML Track\")\n"
   ]
  }
 ],
 "metadata": {
  "kernelspec": {
   "display_name": "venv",
   "language": "python",
   "name": "python3"
  },
  "language_info": {
   "codemirror_mode": {
    "name": "ipython",
    "version": 3
   },
   "file_extension": ".py",
   "mimetype": "text/x-python",
   "name": "python",
   "nbconvert_exporter": "python",
   "pygments_lexer": "ipython3",
   "version": "3.13.7"
  }
 },
 "nbformat": 4,
 "nbformat_minor": 5
}
